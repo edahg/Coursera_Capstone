{
  "nbformat": 4,
  "nbformat_minor": 0,
  "metadata": {
    "colab": {
      "name": "Project_Notebook.ipynb",
      "provenance": []
    },
    "kernelspec": {
      "name": "python3",
      "display_name": "Python 3"
    }
  },
  "cells": [
    {
      "cell_type": "markdown",
      "metadata": {
        "id": "J9wSYzjgOgYM",
        "colab_type": "text"
      },
      "source": [
        "# **Capston Project for IBM Data Science Professional Certificate**"
      ]
    },
    {
      "cell_type": "markdown",
      "metadata": {
        "id": "bT3oIo4XOz2c",
        "colab_type": "text"
      },
      "source": [
        "*This notebook will be the main document for the Capstone Project*"
      ]
    },
    {
      "cell_type": "code",
      "metadata": {
        "id": "AxgHwkkyOgB1",
        "colab_type": "code",
        "colab": {}
      },
      "source": [
        "#import libraries\n",
        "import pandas as pd\n",
        "import numpy as np"
      ],
      "execution_count": 1,
      "outputs": []
    },
    {
      "cell_type": "code",
      "metadata": {
        "id": "ntWoLvv2Oal0",
        "colab_type": "code",
        "colab": {
          "base_uri": "https://localhost:8080/",
          "height": 34
        },
        "outputId": "3ba08eec-e68e-4c2b-cd47-e6891a65a46c"
      },
      "source": [
        "print(\"Hello Capstone Project Course!\")"
      ],
      "execution_count": 2,
      "outputs": [
        {
          "output_type": "stream",
          "text": [
            "Hello Capstone Project Course!\n"
          ],
          "name": "stdout"
        }
      ]
    },
    {
      "cell_type": "code",
      "metadata": {
        "id": "rZe1wxHmPphs",
        "colab_type": "code",
        "colab": {}
      },
      "source": [
        ""
      ],
      "execution_count": 2,
      "outputs": []
    }
  ]
}